{
 "cells": [
  {
   "cell_type": "code",
   "execution_count": 1,
   "id": "280896ea-2040-4b62-8f2b-ad04faa140c3",
   "metadata": {},
   "outputs": [
    {
     "name": "stdout",
     "output_type": "stream",
     "text": [
      "12740\n"
     ]
    }
   ],
   "source": [
    "import sys, pandas as pd\n",
    "\n",
    "# load dataframe from the file named input saved with this .py file\n",
    "df = pd.read_csv(sys.path[0] + '/input', names = ['OpponentShape', 'MyShape'], sep = ' ')\n",
    "\n",
    "# load dataframe converting XYZ to 123 & indicating outcomes\n",
    "dfShape = pd.DataFrame({\n",
    "    'MyShape':      ['X', 'Y', 'Z'],\n",
    "    'ShapePoints':  [ 1 ,  2 ,  3 ], \n",
    "    'WinIf':        ['C', 'A', 'B'],\n",
    "    'DrawIf':       ['A', 'B', 'C'],\n",
    "    'LoseIf':       ['B', 'C', 'A']\n",
    "})\n",
    "\n",
    "# merge shape score and outcome indicator into main dataframe\n",
    "df = pd.merge(\n",
    "    left = df,\n",
    "    right = dfShape,\n",
    "    how = \"inner\"\n",
    ")\n",
    "\n",
    "# evaluate OpponentShape to determine outcome\n",
    "def OutcomePoints(row):\n",
    "    if row['OpponentShape'] == row['WinIf']:\n",
    "        return 6\n",
    "    elif row['OpponentShape'] == row['DrawIf']:\n",
    "        return 3\n",
    "    elif row['OpponentShape'] == row['LoseIf']:\n",
    "        return 0\n",
    "\n",
    "# add column with outcome points\n",
    "df['OutcomePoints'] = df.apply(lambda row: OutcomePoints(row), axis=1)\n",
    "\n",
    "# What would your total score be if everything goes exactly according to your strategy guide?\n",
    "TotalScore = df['ShapePoints'].sum() + df['OutcomePoints'].sum() \n",
    "\n",
    "print(TotalScore)\n",
    "\n"
   ]
  },
  {
   "cell_type": "code",
   "execution_count": null,
   "id": "55369d9d-4d1b-4c7d-980e-1d3bc4a170c0",
   "metadata": {},
   "outputs": [],
   "source": []
  }
 ],
 "metadata": {
  "kernelspec": {
   "display_name": "Python 3.11.0 64-bit",
   "language": "python",
   "name": "python3"
  },
  "language_info": {
   "codemirror_mode": {
    "name": "ipython",
    "version": 3
   },
   "file_extension": ".py",
   "mimetype": "text/x-python",
   "name": "python",
   "nbconvert_exporter": "python",
   "pygments_lexer": "ipython3",
   "version": "3.11.0"
  },
  "vscode": {
   "interpreter": {
    "hash": "aee8b7b246df8f9039afb4144a1f6fd8d2ca17a180786b69acc140d282b71a49"
   }
  }
 },
 "nbformat": 4,
 "nbformat_minor": 5
}
